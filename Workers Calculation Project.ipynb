{
 "cells": [
  {
   "cell_type": "code",
   "execution_count": 1,
   "id": "bbb46bac",
   "metadata": {},
   "outputs": [
    {
     "name": "stdout",
     "output_type": "stream",
     "text": [
      "Enter the number of workers Present: 3\n",
      "Total number of items needed to be packed: 36\n",
      "Items packed by workers: 12\n",
      "Items packed by workers: 14\n",
      "Items packed by workers: 10\n",
      "Items Packed By each workers :  [12, 14, 10]\n",
      "Total items Packed:  36\n",
      "Time taken by each worker to pack:  [9, 7, 12]\n",
      "Total time taken by the workers to complete the work:  28 seconds\n",
      "Good Job floks\n"
     ]
    }
   ],
   "source": [
    "#no of workers\n",
    "\n",
    "worker=int (input (\"Enter the number of workers Present: \"))\n",
    "n=int (input(\"Total number of items needed to be packed: \"))\n",
    "packed=[]\n",
    "\n",
    "#items to be packed\n",
    "for i in range (worker):\n",
    "    a=int(input(\"Items packed by workers: \"))\n",
    "    packed.append(a)\n",
    "print(\"Items Packed By each workers : \",packed)\n",
    "pack=packed\n",
    "total=0\n",
    "for i in range (0,len(pack)):\n",
    "    total=total+pack[i]\n",
    "if n==total:\n",
    "    print(\"Total items Packed: \",total) \n",
    "else:\n",
    "    print(\"Some packages are missing\")\n",
    "\n",
    "#time taken by each wokers to complete the work\n",
    "\n",
    "time_taken=[]\n",
    "for i in range (worker):\n",
    "    import random as ra\n",
    "    t=ra.randint (4,40) \n",
    "    time_taken.append(t)\n",
    "print (\"Time taken by each worker to pack: \",time_taken)\n",
    "time=time_taken\n",
    "total=0\n",
    "for i in range (0, len(time)):\n",
    "    total=total+time[i]\n",
    "print(\"Total time taken by the workers to complete the work: \", total, \"seconds\")\n",
    "\n",
    "if total<=15:\n",
    "    print(\"your team should try to perform well and complete the work in Time\")\n",
    "else:\n",
    "    print('Good Job floks')"
   ]
  }
 ],
 "metadata": {
  "kernelspec": {
   "display_name": "Python 3 (ipykernel)",
   "language": "python",
   "name": "python3"
  },
  "language_info": {
   "codemirror_mode": {
    "name": "ipython",
    "version": 3
   },
   "file_extension": ".py",
   "mimetype": "text/x-python",
   "name": "python",
   "nbconvert_exporter": "python",
   "pygments_lexer": "ipython3",
   "version": "3.9.13"
  }
 },
 "nbformat": 4,
 "nbformat_minor": 5
}
